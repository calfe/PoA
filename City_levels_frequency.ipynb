{
  "cells": [
    {
      "cell_type": "markdown",
      "metadata": {
        "id": "view-in-github",
        "colab_type": "text"
      },
      "source": [
        "<a href=\"https://colab.research.google.com/github/calfe/PoA/blob/main/City_levels_frequency.ipynb\" target=\"_parent\"><img src=\"https://colab.research.google.com/assets/colab-badge.svg\" alt=\"Open In Colab\"/></a>"
      ]
    },
    {
      "cell_type": "code",
      "execution_count": null,
      "metadata": {
        "id": "C4k3QzzJD2-l"
      },
      "outputs": [],
      "source": [
        "!pip install geopandas --quiet\n",
        "!pip install pandas --quiet\n",
        "!pip install shapely --quiet\n",
        "!pip install osmnx --quiet\n",
        "!pip install matplotlib==3.5 --quiet\n",
        "!pip install numpy==1.22 --quiet\n",
        "!pip install networkx --quiet"
      ]
    },
    {
      "cell_type": "code",
      "execution_count": null,
      "metadata": {
        "id": "w_hnKXxiKIhV"
      },
      "outputs": [],
      "source": [
        "import geopandas as gpd\n",
        "import pandas\n",
        "import shapely\n",
        "import matplotlib\n",
        "import numpy as np\n",
        "import networkx as nx"
      ]
    },
    {
      "cell_type": "code",
      "execution_count": null,
      "metadata": {
        "id": "dwZx-p5bBD3M"
      },
      "outputs": [],
      "source": [
        "import osmnx as ox"
      ]
    },
    {
      "cell_type": "code",
      "source": [
        "# specify the place you want to download the data for\n",
        "place_name = \"Porto Alegre, Rio Grande do Sul, Brazil\"\n",
        "\n",
        "# download the street network\n",
        "graph = ox.graph_from_place(place_name, network_type='all')"
      ],
      "metadata": {
        "id": "rj1h0NbmdIeJ"
      },
      "execution_count": null,
      "outputs": []
    },
    {
      "cell_type": "code",
      "source": [
        "# get the buildings in the network\n",
        "tags = {\"building\": True} \n",
        "buildings = ox.geometries_from_place(place_name, tags)"
      ],
      "metadata": {
        "id": "JP21h643dmUc"
      },
      "execution_count": null,
      "outputs": []
    },
    {
      "cell_type": "code",
      "source": [
        "# extract the building level data from the building polyggon data\n",
        "building_levels = buildings['building:levels'].dropna().astype(int)\n",
        "\n",
        "# plot the building levels on a histogram\n",
        "building_levels.plot.hist(bins=range(1, building_levels.max() + 2), rwidth=0.9, color='#607c8e')"
      ],
      "metadata": {
        "id": "jesD7q9bds6J",
        "outputId": "32a6b2bf-61d1-4ede-a198-9d07d35187d9",
        "colab": {
          "base_uri": "https://localhost:8080/",
          "height": 282
        }
      },
      "execution_count": null,
      "outputs": [
        {
          "output_type": "execute_result",
          "data": {
            "text/plain": [
              "<matplotlib.axes._subplots.AxesSubplot at 0x7f6c35854640>"
            ]
          },
          "metadata": {},
          "execution_count": 12
        },
        {
          "output_type": "display_data",
          "data": {
            "text/plain": [
              "<Figure size 432x288 with 1 Axes>"
            ],
            "image/png": "[encoded data removed]"
          },
          "metadata": {
            "needs_background": "light"
          }
        }
      ]
    }
  ],
  "metadata": {
    "colab": {
      "provenance": [],
      "include_colab_link": true
    },
    "kernelspec": {
      "display_name": "Python 3",
      "name": "python3"
    },
    "language_info": {
      "name": "python"
    }
  },
  "nbformat": 4,
  "nbformat_minor": 0
}